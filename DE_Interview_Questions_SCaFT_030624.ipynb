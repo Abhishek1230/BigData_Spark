{
  "nbformat": 4,
  "nbformat_minor": 0,
  "metadata": {
    "colab": {
      "provenance": [],
      "include_colab_link": true
    },
    "kernelspec": {
      "name": "python3",
      "display_name": "Python 3"
    },
    "language_info": {
      "name": "python"
    }
  },
  "cells": [
    {
      "cell_type": "markdown",
      "metadata": {
        "id": "view-in-github",
        "colab_type": "text"
      },
      "source": [
        "<a href=\"https://colab.research.google.com/github/Abhishek1230/BigData_Spark/blob/main/DE_Interview_Questions_SCaFT_030624.ipynb\" target=\"_parent\"><img src=\"https://colab.research.google.com/assets/colab-badge.svg\" alt=\"Open In Colab\"/></a>"
      ]
    },
    {
      "cell_type": "markdown",
      "source": [
        "---\n",
        "#   Data Engineering - Part 1 of 2\n",
        "---"
      ],
      "metadata": {
        "id": "8UwakGrjabVW"
      }
    },
    {
      "cell_type": "code",
      "source": [
        "%pip install pyspark"
      ],
      "metadata": {
        "colab": {
          "base_uri": "https://localhost:8080/"
        },
        "id": "Xvm_3agUnvkn",
        "outputId": "a3b8f551-b569-4659-ccdc-37ff808814e0"
      },
      "execution_count": 1,
      "outputs": [
        {
          "output_type": "stream",
          "name": "stdout",
          "text": [
            "Collecting pyspark\n",
            "  Downloading pyspark-3.5.1.tar.gz (317.0 MB)\n",
            "\u001b[2K     \u001b[90m━━━━━━━━━━━━━━━━━━━━━━━━━━━━━━━━━━━━━━━━\u001b[0m \u001b[32m317.0/317.0 MB\u001b[0m \u001b[31m2.5 MB/s\u001b[0m eta \u001b[36m0:00:00\u001b[0m\n",
            "\u001b[?25h  Preparing metadata (setup.py) ... \u001b[?25l\u001b[?25hdone\n",
            "Requirement already satisfied: py4j==0.10.9.7 in /usr/local/lib/python3.10/dist-packages (from pyspark) (0.10.9.7)\n",
            "Building wheels for collected packages: pyspark\n",
            "  Building wheel for pyspark (setup.py) ... \u001b[?25l\u001b[?25hdone\n",
            "  Created wheel for pyspark: filename=pyspark-3.5.1-py2.py3-none-any.whl size=317488491 sha256=35dd21ff9deb70d5cc14e6bad48b75dfbd0d5bf83a2b4e28aa60802763c693b6\n",
            "  Stored in directory: /root/.cache/pip/wheels/80/1d/60/2c256ed38dddce2fdd93be545214a63e02fbd8d74fb0b7f3a6\n",
            "Successfully built pyspark\n",
            "Installing collected packages: pyspark\n",
            "Successfully installed pyspark-3.5.1\n"
          ]
        }
      ]
    },
    {
      "cell_type": "code",
      "execution_count": 2,
      "metadata": {
        "id": "O_3aHtfQizcc"
      },
      "outputs": [],
      "source": [
        "import pandas as pd\n",
        "import numpy as np"
      ]
    },
    {
      "cell_type": "markdown",
      "source": [
        "Given a DataFrame with following columns:\n",
        "* vin: Unique Vehicle Identifier\n",
        "* event_date: date of event\n",
        "* leg_origin: origin location\n",
        "* leg_destination: destination location\n",
        "* event_desc: Event Type\n",
        "* time_to_next_event: Estimated time to next event (in days)"
      ],
      "metadata": {
        "id": "7493a79_scr-"
      }
    },
    {
      "cell_type": "code",
      "source": [
        "#@title Load data\n",
        "dfpd = pd.DataFrame()\n",
        "N = 3000\n",
        "\n",
        "nvins = N//20\n",
        "dfpd[\"vin\"] = np.random.choice([f\"vin{i+1}\" for i in range(nvins)], N)\n",
        "dfpd[\"event_date\"] = pd.to_datetime(np.random.randint(pd.to_datetime(\"2023-01-01\").value//10**9, pd.to_datetime(\"2023-06-30\").value//10**9, N), unit='s')\n",
        "dfpd[\"leg_origin\"] = np.random.choice([\"CAMBRIDGE\",\"MIRA LOMA\",\"GEORGETOWN\",\"PRINCETON\"], N)\n",
        "dfpd[\"leg_destination\"] = np.random.choice([\"LOUISVILLE\",\"CHICAGO\",\"KANSAS CITY\",\"BOSTON\"], N)\n",
        "dfpd[\"event_desc\"] = np.random.choice([\"Truck Depart\",\"Rail Depart\",\"Processing\",\"On Truck for Delivery\"], N)\n",
        "dfpd = dfpd.sort_values(by=[\"vin\",\"event_desc\",\"event_date\"]).drop_duplicates(subset=[\"vin\",\"event_desc\"], keep=\"first\")\n",
        "dfpd2 = dfpd.sort_values(by=[\"vin\",\"event_date\"]).drop_duplicates([\"vin\"], keep=\"last\")\n",
        "dfpd2[\"leg_origin\"] = dfpd2[\"leg_destination\"]\n",
        "dfpd2[\"leg_destination\"] = \"DEALER\"\n",
        "dfpd2[\"event_desc\"] = \"Delivered\"\n",
        "dfpd2[\"event_date\"] = dfpd2[\"event_date\"] + pd.to_timedelta(np.random.randint(0,50)/10, unit=\"d\")\n",
        "dfpd = pd.concat([dfpd, dfpd2],axis=0)\n",
        "dfpd = dfpd.sample(frac=.9).reset_index(drop=True)\n",
        "dfpd[\"time_to_next_event\"] = np.random.rand(dfpd.shape[0])*30"
      ],
      "metadata": {
        "id": "ZlYdn3gLjAT_"
      },
      "execution_count": 3,
      "outputs": []
    },
    {
      "cell_type": "code",
      "source": [
        "from pyspark.sql import SparkSession\n",
        "#Create PySpark SparkSession\n",
        "spark = SparkSession.builder.master(\"local[1]\").appName(\"tmnaint\").getOrCreate()\n",
        "#Create PySpark DataFrame from Pandas\n",
        "df =spark.createDataFrame(dfpd)\n",
        "df.show(50, truncate=False)"
      ],
      "metadata": {
        "colab": {
          "base_uri": "https://localhost:8080/"
        },
        "id": "PcXZwiS_oBy1",
        "outputId": "53608101-e1ae-4f66-8530-600f6be94e26"
      },
      "execution_count": 4,
      "outputs": [
        {
          "output_type": "stream",
          "name": "stdout",
          "text": [
            "+------+-------------------+-----------+---------------+---------------------+-------------------+\n",
            "|vin   |event_date         |leg_origin |leg_destination|event_desc           |time_to_next_event |\n",
            "+------+-------------------+-----------+---------------+---------------------+-------------------+\n",
            "|vin39 |2023-02-26 20:37:10|KANSAS CITY|DEALER         |Delivered            |18.67047970393081  |\n",
            "|vin124|2023-02-06 10:04:55|GEORGETOWN |KANSAS CITY    |On Truck for Delivery|17.996920354860684 |\n",
            "|vin77 |2023-01-24 02:16:27|PRINCETON  |LOUISVILLE     |On Truck for Delivery|6.772869799998926  |\n",
            "|vin124|2023-02-19 10:38:26|MIRA LOMA  |KANSAS CITY    |Processing           |20.511189274971226 |\n",
            "|vin26 |2023-05-04 05:31:41|KANSAS CITY|DEALER         |Delivered            |29.219756028618875 |\n",
            "|vin71 |2023-01-30 12:18:54|CAMBRIDGE  |BOSTON         |On Truck for Delivery|25.43779408494479  |\n",
            "|vin150|2023-05-27 02:08:42|KANSAS CITY|DEALER         |Delivered            |20.93852737290827  |\n",
            "|vin129|2023-01-08 23:10:06|PRINCETON  |KANSAS CITY    |Processing           |25.990203826199668 |\n",
            "|vin14 |2023-01-28 19:24:03|GEORGETOWN |CHICAGO        |Rail Depart          |21.104548174776816 |\n",
            "|vin52 |2023-01-02 02:47:09|MIRA LOMA  |BOSTON         |Rail Depart          |29.064808985982843 |\n",
            "|vin145|2023-02-04 08:05:45|GEORGETOWN |LOUISVILLE     |Truck Depart         |5.292310615981716  |\n",
            "|vin98 |2023-01-20 05:57:07|CAMBRIDGE  |LOUISVILLE     |On Truck for Delivery|14.885080064274952 |\n",
            "|vin42 |2023-02-17 16:08:09|MIRA LOMA  |KANSAS CITY    |Rail Depart          |0.05171117683954618|\n",
            "|vin49 |2023-01-09 14:50:53|MIRA LOMA  |LOUISVILLE     |Truck Depart         |28.71457395634419  |\n",
            "|vin139|2023-03-31 02:15:40|CHICAGO    |DEALER         |Delivered            |0.7020289833535331 |\n",
            "|vin51 |2023-01-14 22:57:54|CAMBRIDGE  |CHICAGO        |Processing           |10.530219098407812 |\n",
            "|vin98 |2023-02-04 10:01:15|PRINCETON  |KANSAS CITY    |Truck Depart         |28.966038779248414 |\n",
            "|vin20 |2023-01-28 04:33:39|CHICAGO    |DEALER         |Delivered            |14.51036719264671  |\n",
            "|vin148|2023-02-06 14:38:01|GEORGETOWN |BOSTON         |Truck Depart         |10.843095567621141 |\n",
            "|vin29 |2023-01-14 13:13:10|MIRA LOMA  |BOSTON         |Truck Depart         |16.638276383577686 |\n",
            "|vin53 |2023-01-20 16:13:57|MIRA LOMA  |CHICAGO        |Truck Depart         |20.17255556038624  |\n",
            "|vin143|2023-01-24 23:20:12|GEORGETOWN |LOUISVILLE     |Rail Depart          |26.579153646945915 |\n",
            "|vin62 |2023-01-22 23:36:44|GEORGETOWN |LOUISVILLE     |Processing           |1.7163743815076926 |\n",
            "|vin94 |2023-02-12 15:35:40|CAMBRIDGE  |BOSTON         |Truck Depart         |10.669672193146546 |\n",
            "|vin24 |2023-01-27 10:51:36|CAMBRIDGE  |KANSAS CITY    |Rail Depart          |7.956840466769547  |\n",
            "|vin125|2023-02-25 09:27:14|CHICAGO    |DEALER         |Delivered            |2.2490478519676573 |\n",
            "|vin1  |2023-01-04 14:15:57|PRINCETON  |LOUISVILLE     |On Truck for Delivery|15.39709055317644  |\n",
            "|vin90 |2023-01-26 16:56:54|MIRA LOMA  |CHICAGO        |Processing           |15.14337322443599  |\n",
            "|vin119|2023-04-09 16:09:55|LOUISVILLE |DEALER         |Delivered            |17.567191592517478 |\n",
            "|vin99 |2023-03-30 13:56:06|PRINCETON  |CHICAGO        |On Truck for Delivery|20.420310031755477 |\n",
            "|vin4  |2023-01-19 05:42:42|PRINCETON  |LOUISVILLE     |Truck Depart         |25.45659797731202  |\n",
            "|vin149|2023-01-30 19:41:44|MIRA LOMA  |KANSAS CITY    |Rail Depart          |16.94590610863421  |\n",
            "|vin149|2023-02-06 11:08:05|KANSAS CITY|DEALER         |Delivered            |7.539962851185221  |\n",
            "|vin46 |2023-02-07 10:46:25|GEORGETOWN |CHICAGO        |On Truck for Delivery|24.445069073107    |\n",
            "|vin125|2023-01-12 12:37:47|PRINCETON  |BOSTON         |On Truck for Delivery|16.92655303586351  |\n",
            "|vin81 |2023-01-14 17:04:01|MIRA LOMA  |CHICAGO        |Rail Depart          |5.945419515128877  |\n",
            "|vin84 |2023-04-29 05:40:43|GEORGETOWN |BOSTON         |Rail Depart          |21.698854818449416 |\n",
            "|vin116|2023-03-31 02:42:24|PRINCETON  |KANSAS CITY    |On Truck for Delivery|10.045788878227675 |\n",
            "|vin78 |2023-01-24 02:57:30|GEORGETOWN |CHICAGO        |Rail Depart          |4.465177543728361  |\n",
            "|vin13 |2023-03-02 20:20:09|BOSTON     |DEALER         |Delivered            |1.2662189984778327 |\n",
            "|vin111|2023-01-14 08:15:20|CAMBRIDGE  |LOUISVILLE     |Truck Depart         |11.747278475598046 |\n",
            "|vin100|2023-04-18 15:30:47|LOUISVILLE |DEALER         |Delivered            |24.85795234597604  |\n",
            "|vin66 |2023-01-16 11:07:26|GEORGETOWN |CHICAGO        |Rail Depart          |28.648424325286207 |\n",
            "|vin136|2023-01-06 07:54:41|GEORGETOWN |CHICAGO        |Processing           |11.610274060304771 |\n",
            "|vin100|2023-01-09 23:15:03|PRINCETON  |BOSTON         |Processing           |17.089362046748363 |\n",
            "|vin18 |2023-04-05 08:59:18|CHICAGO    |DEALER         |Delivered            |14.814411112631431 |\n",
            "|vin3  |2023-01-23 23:57:27|MIRA LOMA  |LOUISVILLE     |On Truck for Delivery|15.300377083819743 |\n",
            "|vin139|2023-01-03 20:03:15|CAMBRIDGE  |LOUISVILLE     |Rail Depart          |7.291470227461595  |\n",
            "|vin5  |2023-02-21 18:06:22|MIRA LOMA  |LOUISVILLE     |Processing           |22.924347336957585 |\n",
            "|vin25 |2023-01-20 06:17:29|MIRA LOMA  |KANSAS CITY    |Rail Depart          |19.52639820853209  |\n",
            "+------+-------------------+-----------+---------------+---------------------+-------------------+\n",
            "only showing top 50 rows\n",
            "\n"
          ]
        }
      ]
    },
    {
      "cell_type": "markdown",
      "source": [
        "## Questions:"
      ],
      "metadata": {
        "id": "di4z6mzzuY_9"
      }
    },
    {
      "cell_type": "markdown",
      "source": [
        "### How many rows in the data frame"
      ],
      "metadata": {
        "id": "qd2JZryyo_nz"
      }
    },
    {
      "cell_type": "code",
      "source": [
        "df.count()"
      ],
      "metadata": {
        "id": "HvzbSZfJWeCZ",
        "collapsed": true,
        "colab": {
          "base_uri": "https://localhost:8080/"
        },
        "outputId": "c0270414-176f-430a-ccc0-64b4a3295c71"
      },
      "execution_count": 5,
      "outputs": [
        {
          "output_type": "execute_result",
          "data": {
            "text/plain": [
              "671"
            ]
          },
          "metadata": {},
          "execution_count": 5
        }
      ]
    },
    {
      "cell_type": "markdown",
      "source": [
        "### How many unique vehicles (vin)?"
      ],
      "metadata": {
        "id": "er0g34x3r_xd"
      }
    },
    {
      "cell_type": "code",
      "source": [
        "df.select(\"vin\").distinct().count()"
      ],
      "metadata": {
        "id": "T7vVyOJgVIG1",
        "colab": {
          "base_uri": "https://localhost:8080/"
        },
        "outputId": "a801e9ea-4622-4e25-f641-8023ac9a3fcd"
      },
      "execution_count": 7,
      "outputs": [
        {
          "output_type": "execute_result",
          "data": {
            "text/plain": [
              "150"
            ]
          },
          "metadata": {},
          "execution_count": 7
        }
      ]
    },
    {
      "cell_type": "markdown",
      "source": [
        "### How many unique origin/destination pairs?\n",
        "\n"
      ],
      "metadata": {
        "id": "fVKMLNRApCnG"
      }
    },
    {
      "cell_type": "code",
      "source": [
        "df.select(\"leg_origin\",\"leg_destination\").distinct().count()"
      ],
      "metadata": {
        "id": "3cdv4f1pVKCv",
        "colab": {
          "base_uri": "https://localhost:8080/"
        },
        "outputId": "75d84eda-efe0-432f-fd48-2042d178050c"
      },
      "execution_count": 8,
      "outputs": [
        {
          "output_type": "execute_result",
          "data": {
            "text/plain": [
              "20"
            ]
          },
          "metadata": {},
          "execution_count": 8
        }
      ]
    },
    {
      "cell_type": "markdown",
      "source": [
        "### For each VIN, add a column \"is_delivery_event\" where the event_desc is \"Delivered\""
      ],
      "metadata": {
        "id": "jDk5yBPvrlWi"
      }
    },
    {
      "cell_type": "code",
      "source": [
        "from pyspark.sql.functions import col,when\n",
        "df = df.withColumn(\"is_delivery_event\",when(col(\"event_desc\") == 'Delivered',True).otherwise(False))\n",
        "df.show(10,False)"
      ],
      "metadata": {
        "id": "1Y3KglnpVXj6",
        "colab": {
          "base_uri": "https://localhost:8080/"
        },
        "outputId": "e58b46a3-1540-4ee2-f697-bfd0f6ce4137"
      },
      "execution_count": 18,
      "outputs": [
        {
          "output_type": "stream",
          "name": "stdout",
          "text": [
            "+------+-------------------+----------+---------------+---------------------+------------------+-----------------+------------+\n",
            "|vin   |event_date         |leg_origin|leg_destination|event_desc           |time_to_next_event|is_delivery_event|is_delivered|\n",
            "+------+-------------------+----------+---------------+---------------------+------------------+-----------------+------------+\n",
            "|vin1  |2023-01-04 14:15:57|PRINCETON |LOUISVILLE     |On Truck for Delivery|15.39709055317644 |false            |0           |\n",
            "|vin1  |2023-04-19 22:09:38|MIRA LOMA |LOUISVILLE     |Processing           |12.979984258336486|false            |0           |\n",
            "|vin1  |2023-01-25 04:27:35|GEORGETOWN|LOUISVILLE     |Truck Depart         |28.063192921329644|false            |0           |\n",
            "|vin1  |2023-01-29 11:59:37|MIRA LOMA |KANSAS CITY    |Rail Depart          |28.798263948468744|false            |0           |\n",
            "|vin10 |2023-03-12 17:14:01|PRINCETON |LOUISVILLE     |Processing           |26.3338206000586  |false            |1           |\n",
            "|vin10 |2023-03-14 14:09:02|GEORGETOWN|BOSTON         |Rail Depart          |10.204565105329074|false            |1           |\n",
            "|vin10 |2023-05-03 07:41:14|BOSTON    |DEALER         |Delivered            |29.15716477024295 |true             |1           |\n",
            "|vin10 |2023-02-02 16:32:58|CAMBRIDGE |LOUISVILLE     |On Truck for Delivery|9.044736585030963 |false            |1           |\n",
            "|vin10 |2023-04-30 07:41:14|GEORGETOWN|BOSTON         |Truck Depart         |4.196315870472333 |false            |1           |\n",
            "|vin100|2023-04-18 15:30:47|LOUISVILLE|DEALER         |Delivered            |24.85795234597604 |true             |1           |\n",
            "+------+-------------------+----------+---------------+---------------------+------------------+-----------------+------------+\n",
            "only showing top 10 rows\n",
            "\n"
          ]
        }
      ]
    },
    {
      "cell_type": "markdown",
      "source": [
        "### For each VIN, add a column \"is_delivered\" if \"is_delivery_event\" is ever True (in the past or future)"
      ],
      "metadata": {
        "id": "qGp3Z5H7HHiX"
      }
    },
    {
      "cell_type": "code",
      "source": [
        "from pyspark.sql.window import Window\n",
        "from pyspark.sql.functions import col,max\n",
        "window = Window.partitionBy(\"vin\")\n",
        "df = df.withColumn(\"is_delivered\",max(col(\"is_delivery_event\")).over(window))\n",
        "df.show(10,False)"
      ],
      "metadata": {
        "id": "yObyzVtZVMfa",
        "colab": {
          "base_uri": "https://localhost:8080/"
        },
        "outputId": "5b0b2186-edfe-458a-bced-4cf8819b84a0"
      },
      "execution_count": 19,
      "outputs": [
        {
          "output_type": "stream",
          "name": "stdout",
          "text": [
            "+------+-------------------+----------+---------------+---------------------+------------------+-----------------+------------+\n",
            "|vin   |event_date         |leg_origin|leg_destination|event_desc           |time_to_next_event|is_delivery_event|is_delivered|\n",
            "+------+-------------------+----------+---------------+---------------------+------------------+-----------------+------------+\n",
            "|vin1  |2023-01-04 14:15:57|PRINCETON |LOUISVILLE     |On Truck for Delivery|15.39709055317644 |false            |false       |\n",
            "|vin1  |2023-04-19 22:09:38|MIRA LOMA |LOUISVILLE     |Processing           |12.979984258336486|false            |false       |\n",
            "|vin1  |2023-01-25 04:27:35|GEORGETOWN|LOUISVILLE     |Truck Depart         |28.063192921329644|false            |false       |\n",
            "|vin1  |2023-01-29 11:59:37|MIRA LOMA |KANSAS CITY    |Rail Depart          |28.798263948468744|false            |false       |\n",
            "|vin10 |2023-03-12 17:14:01|PRINCETON |LOUISVILLE     |Processing           |26.3338206000586  |false            |true        |\n",
            "|vin10 |2023-03-14 14:09:02|GEORGETOWN|BOSTON         |Rail Depart          |10.204565105329074|false            |true        |\n",
            "|vin10 |2023-05-03 07:41:14|BOSTON    |DEALER         |Delivered            |29.15716477024295 |true             |true        |\n",
            "|vin10 |2023-02-02 16:32:58|CAMBRIDGE |LOUISVILLE     |On Truck for Delivery|9.044736585030963 |false            |true        |\n",
            "|vin10 |2023-04-30 07:41:14|GEORGETOWN|BOSTON         |Truck Depart         |4.196315870472333 |false            |true        |\n",
            "|vin100|2023-04-18 15:30:47|LOUISVILLE|DEALER         |Delivered            |24.85795234597604 |true             |true        |\n",
            "+------+-------------------+----------+---------------+---------------------+------------------+-----------------+------------+\n",
            "only showing top 10 rows\n",
            "\n"
          ]
        }
      ]
    },
    {
      "cell_type": "markdown",
      "source": [
        "### For each event_desc, calculate the average of the last 5 values for \"time_to_next_event\". Use event_date for ordering\n",
        "\n",
        "For example, consider a single event:\n",
        "\n",
        "Index         |VIN           |Date        |time_to_next_event|avg\n",
        "--------------|--------------|------------|------------------|----\n",
        "1             |VIN1          |2023-01-01  |1                 |1 (1/1)\n",
        "2             |VIN1          |2023-02-01  |2                 |1.5 ((1+2)/2)\n",
        "3             |VIN1          |2023-03-01  |3                 |2 ((1+2+3)/3)\n",
        "4             |VIN1          |2023-04-01  |2                 |2 ((1+2+3+2)/4)\n",
        "5             |VIN1          |2023-04-15  |3                 |2.2 ((1+2+3+2+3)/5)\n",
        "6             |VIN1          |2023-04-23  |4                 |2.8 ((2+3+2+3+4)/5)\n"
      ],
      "metadata": {
        "id": "huzyZC_qkRgX"
      }
    },
    {
      "cell_type": "code",
      "source": [
        "from pyspark.sql.window import Window\n",
        "from pyspark.sql.functions import col,avg\n",
        "window = Window.partitionBy(\"event_desc\").orderBy(\"event_date\").rowsBetween(-4,0)\n",
        "\n",
        "df = df.withColumn(\"avg\",avg(col(\"time_to_next_event\")).over(window))\n",
        "df2 = df.select(\"event_desc\").distinct()\n",
        "df.show(100,False)\n",
        "#df2.show()"
      ],
      "metadata": {
        "id": "KR7THSSQVeRU",
        "colab": {
          "base_uri": "https://localhost:8080/"
        },
        "outputId": "6c3ddf3f-eedc-4d1c-f969-c2cafc9985ed"
      },
      "execution_count": 24,
      "outputs": [
        {
          "output_type": "stream",
          "name": "stdout",
          "text": [
            "+--------------------+\n",
            "|          event_desc|\n",
            "+--------------------+\n",
            "|          Processing|\n",
            "|        Truck Depart|\n",
            "|On Truck for Deli...|\n",
            "|           Delivered|\n",
            "|         Rail Depart|\n",
            "+--------------------+\n",
            "\n"
          ]
        }
      ]
    }
  ]
}